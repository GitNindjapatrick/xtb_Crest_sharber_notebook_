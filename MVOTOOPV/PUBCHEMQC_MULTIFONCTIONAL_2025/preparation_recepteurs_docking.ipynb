{
 "cells": [
  {
   "cell_type": "markdown",
   "id": "2a2c8d29",
   "metadata": {},
   "source": [
    "# 🔬 Préparation des récepteurs pour le Docking avec Smina"
   ]
  },
  {
   "cell_type": "markdown",
   "id": "ac4b30c0",
   "metadata": {},
   "source": [
    "Ce notebook télécharge les récepteurs biomoléculaires (PDB), les convertit au format `.pdbqt`, et vérifie la qualité de conversion."
   ]
  },
  {
   "cell_type": "code",
   "execution_count": 1,
   "id": "13e4f0e2",
   "metadata": {},
   "outputs": [
    {
     "name": "stdout",
     "output_type": "stream",
     "text": [
      "Reading package lists... Done\n",
      "E: Could not open lock file /var/lib/apt/lists/lock - open (13: Permission denied)\n",
      "E: Unable to lock directory /var/lib/apt/lists/\n",
      "W: Problem unlinking the file /var/cache/apt/pkgcache.bin - RemoveCaches (13: Permission denied)\n",
      "W: Problem unlinking the file /var/cache/apt/srcpkgcache.bin - RemoveCaches (13: Permission denied)\n",
      "E: Could not open lock file /var/lib/dpkg/lock-frontend - open (13: Permission denied)\n",
      "E: Unable to acquire the dpkg frontend lock (/var/lib/dpkg/lock-frontend), are you root?\n"
     ]
    }
   ],
   "source": [
    "# ✅ Étape 1 : Installation d’Open Babel\n",
    "!apt-get update\n",
    "!apt-get install -y openbabel wget"
   ]
  },
  {
   "cell_type": "code",
   "execution_count": 2,
   "id": "efa29c0d",
   "metadata": {},
   "outputs": [
    {
     "name": "stdout",
     "output_type": "stream",
     "text": [
      "--2025-06-26 19:46:50--  https://files.rcsb.org/download/1DMP.pdb\n",
      "Resolving files.rcsb.org (files.rcsb.org)... 3.162.140.107, 3.162.140.122, 3.162.140.76, ...\n",
      "Connecting to files.rcsb.org (files.rcsb.org)|3.162.140.107|:443... connected.\n",
      "HTTP request sent, awaiting response... 200 OK\n",
      "Length: unspecified [application/octet-stream]\n",
      "Saving to: ‘1DMP.pdb.1’\n",
      "\n",
      "1DMP.pdb.1              [  <=>               ] 186.44K   455KB/s    in 0.4s    \n",
      "\n",
      "2025-06-26 19:46:57 (455 KB/s) - ‘1DMP.pdb.1’ saved [190917]\n",
      "\n",
      "--2025-06-26 19:46:57--  https://files.rcsb.org/download/2XJX.pdb\n",
      "Resolving files.rcsb.org (files.rcsb.org)... 3.162.140.24, 3.162.140.107, 3.162.140.76, ...\n",
      "Connecting to files.rcsb.org (files.rcsb.org)|3.162.140.24|:443... connected.\n",
      "HTTP request sent, awaiting response... 200 OK\n",
      "Length: unspecified [application/octet-stream]\n",
      "Saving to: ‘2XJX.pdb.1’\n",
      "\n",
      "2XJX.pdb.1              [  <=>               ] 202.74K   670KB/s    in 0.3s    \n",
      "\n",
      "2025-06-26 19:46:59 (670 KB/s) - ‘2XJX.pdb.1’ saved [207603]\n",
      "\n",
      "--2025-06-26 19:46:59--  https://files.rcsb.org/download/7PG9.pdb\n",
      "Resolving files.rcsb.org (files.rcsb.org)... 3.162.140.24, 3.162.140.107, 3.162.140.76, ...\n",
      "Connecting to files.rcsb.org (files.rcsb.org)|3.162.140.24|:443... connected.\n",
      "HTTP request sent, awaiting response... 200 OK\n",
      "Length: unspecified [application/octet-stream]\n",
      "Saving to: ‘7PG9.pdb.1’\n",
      "\n",
      "7PG9.pdb.1              [            <=>     ]   3.70M   609KB/s    in 6.2s    \n",
      "\n",
      "2025-06-26 19:47:08 (609 KB/s) - ‘7PG9.pdb.1’ saved [3876174]\n",
      "\n",
      "--2025-06-26 19:47:08--  https://files.rcsb.org/download/5JWA.pdb\n",
      "Resolving files.rcsb.org (files.rcsb.org)... 3.162.140.107, 3.162.140.122, 3.162.140.76, ...\n",
      "Connecting to files.rcsb.org (files.rcsb.org)|3.162.140.107|:443... connected.\n",
      "HTTP request sent, awaiting response... 200 OK\n",
      "Length: unspecified [application/octet-stream]\n",
      "Saving to: ‘5JWA.pdb’\n",
      "\n",
      "5JWA.pdb                [    <=>             ] 778.44K  1.21MB/s    in 0.6s    \n",
      "\n",
      "2025-06-26 19:47:10 (1.21 MB/s) - ‘5JWA.pdb’ saved [797121]\n",
      "\n"
     ]
    }
   ],
   "source": [
    "# ✅ Étape 2 : Téléchargement des fichiers PDB depuis RCSB\n",
    "!mkdir -p receptors && cd receptors && \\\n",
    "wget https://files.rcsb.org/download/1DMP.pdb && \\\n",
    "wget https://files.rcsb.org/download/2XJX.pdb && \\\n",
    "wget https://files.rcsb.org/download/7PG9.pdb && \\\n",
    "wget https://files.rcsb.org/download/5JWA.pdb"
   ]
  },
  {
   "cell_type": "code",
   "execution_count": 3,
   "id": "5fdff3cf",
   "metadata": {},
   "outputs": [
    {
     "name": "stdout",
     "output_type": "stream",
     "text": [
      "🔄 Conversion de 1DMP ...\n"
     ]
    },
    {
     "name": "stderr",
     "output_type": "stream",
     "text": [
      "1 molecule converted\n"
     ]
    },
    {
     "name": "stdout",
     "output_type": "stream",
     "text": [
      "🔄 Conversion de 2XJX ...\n"
     ]
    },
    {
     "name": "stderr",
     "output_type": "stream",
     "text": [
      "==============================\n",
      "*** Open Babel Warning  in PerceiveBondOrders\n",
      "  Failed to kekulize aromatic bonds in OBMol::PerceiveBondOrders (title is receptors/2XJX.pdb)\n",
      "\n",
      "1 molecule converted\n"
     ]
    },
    {
     "name": "stdout",
     "output_type": "stream",
     "text": [
      "🔄 Conversion de 7PG9 ...\n"
     ]
    },
    {
     "name": "stderr",
     "output_type": "stream",
     "text": [
      "==============================\n",
      "*** Open Babel Warning  in PerceiveBondOrders\n",
      "  Failed to kekulize aromatic bonds in OBMol::PerceiveBondOrders (title is receptors/7PG9.pdb)\n",
      "\n",
      "1 molecule converted\n"
     ]
    },
    {
     "name": "stdout",
     "output_type": "stream",
     "text": [
      "🔄 Conversion de 5JWA ...\n",
      "✅ Tous les fichiers ont été convertis avec succès.\n"
     ]
    },
    {
     "name": "stderr",
     "output_type": "stream",
     "text": [
      "==============================\n",
      "*** Open Babel Warning  in PerceiveBondOrders\n",
      "  Failed to kekulize aromatic bonds in OBMol::PerceiveBondOrders (title is receptors/5JWA.pdb)\n",
      "\n",
      "0 molecules converted\n"
     ]
    }
   ],
   "source": [
    "# ✅ Étape 3 : Conversion en .pdbqt avec Open Babel\n",
    "import os\n",
    "\n",
    "targets = [\"1DMP\", \"2XJX\", \"7PG9\", \"5JWA\"]\n",
    "errors = []\n",
    "\n",
    "for pdb in targets:\n",
    "    input_pdb = f\"receptors/{pdb}.pdb\"\n",
    "    output_pdbqt = f\"receptors/{pdb}.pdbqt\"\n",
    "    print(f\"🔄 Conversion de {pdb} ...\")\n",
    "    ret = os.system(f\"obabel {input_pdb} -O {output_pdbqt} --partialcharge gasteiger\")\n",
    "    if ret != 0 or not os.path.exists(output_pdbqt):\n",
    "        errors.append(pdb)\n",
    "\n",
    "if errors:\n",
    "    print(f\"❌ Conversion échouée pour : {errors}\")\n",
    "else:\n",
    "    print(\"✅ Tous les fichiers ont été convertis avec succès.\")"
   ]
  },
  {
   "cell_type": "code",
   "execution_count": 4,
   "id": "df6b17f5",
   "metadata": {},
   "outputs": [
    {
     "name": "stdout",
     "output_type": "stream",
     "text": [
      "✔️ 1DMP.pdbqt — 291.7 Ko\n",
      "✔️ 2XJX.pdbqt — 9709.9 Ko\n",
      "✔️ 7PG9.pdbqt — 36922.9 Ko\n",
      "✔️ 5JWA.pdbqt — 0.0 Ko\n"
     ]
    }
   ],
   "source": [
    "# ✅ Étape 4 : Vérification de la présence et taille des fichiers .pdbqt\n",
    "import os\n",
    "\n",
    "for pdb in targets:\n",
    "    path = f\"receptors/{pdb}.pdbqt\"\n",
    "    if os.path.exists(path):\n",
    "        size = os.path.getsize(path) / 1024\n",
    "        print(f\"✔️ {pdb}.pdbqt — {size:.1f} Ko\")\n",
    "    else:\n",
    "        print(f\"⚠️ Fichier manquant : {pdb}.pdbqt\")"
   ]
  },
  {
   "cell_type": "code",
   "execution_count": 5,
   "id": "bbb324d1-5283-46e3-a710-4e9e7ec3e71b",
   "metadata": {},
   "outputs": [
    {
     "name": "stdout",
     "output_type": "stream",
     "text": [
      "--center_x -11.8 --center_y 20.4 --center_z 27.9\n"
     ]
    }
   ],
   "source": [
    "# Exemple avec biopython\n",
    "from Bio.PDB import PDBParser\n",
    "import numpy as np\n",
    "\n",
    "def get_center_of_receptor(pdb_file):\n",
    "    parser = PDBParser()\n",
    "    structure = parser.get_structure(\"receptor\", pdb_file)\n",
    "    coords = [atom.coord for atom in structure.get_atoms() if atom.element != \"H\"]\n",
    "    center = np.mean(coords, axis=0)\n",
    "    return center\n",
    "\n",
    "x, y, z = get_center_of_receptor(\"receptors/1DMP.pdb\")\n",
    "print(f\"--center_x {x:.1f} --center_y {y:.1f} --center_z {z:.1f}\")\n"
   ]
  },
  {
   "cell_type": "code",
   "execution_count": 1,
   "id": "7d56a308-f4ca-4ee9-9be0-68e22b056d4f",
   "metadata": {},
   "outputs": [
    {
     "data": {
      "text/plain": [
       "'docking_all_targets_with_download.ipynb'"
      ]
     },
     "execution_count": 1,
     "metadata": {},
     "output_type": "execute_result"
    }
   ],
   "source": [
    "from nbformat import v4, write\n",
    "from pathlib import Path\n",
    "\n",
    "# Génération d’un notebook avec les nouvelles cibles et téléchargement auto\n",
    "cells = []\n",
    "\n",
    "# 📦 Import + setup\n",
    "cells.append(v4.new_code_cell(\"\"\"\\\n",
    "import os\n",
    "import time\n",
    "import re\n",
    "import numpy as np\n",
    "import pandas as pd\n",
    "from tqdm import tqdm\n",
    "import seaborn as sns\n",
    "import matplotlib.pyplot as plt\n",
    "from Bio.PDB import PDBParser\n",
    "\n",
    "# Téléchargement des PDB supplémentaires\n",
    "os.makedirs(\"receptors\", exist_ok=True)\n",
    "pdb_ids = [\"1DMP\", \"2XJX\", \"7PG9\", \"1SYH\", \"4LDE\", \"6Y2F\"]\n",
    "for pdb in pdb_ids:\n",
    "    if not os.path.exists(f\"receptors/{pdb}.pdb\"):\n",
    "        os.system(f\"wget -O receptors/{pdb}.pdb https://files.rcsb.org/download/{pdb}.pdb\")\n",
    "\n",
    "def compute_box_from_pdb(pdb_path, padding=6.0):\n",
    "    parser = PDBParser(QUIET=True)\n",
    "    structure = parser.get_structure(\"receptor\", pdb_path)\n",
    "    atoms = [atom.coord for atom in structure.get_atoms() if atom.element != \"H\"]\n",
    "    coords = np.array(atoms)\n",
    "    min_corner = coords.min(axis=0)\n",
    "    max_corner = coords.max(axis=0)\n",
    "    center = coords.mean(axis=0)\n",
    "    size = (max_corner - min_corner) + padding\n",
    "    return center, size\n",
    "\n",
    "def extract_affinity_from_log(log_file):\n",
    "    affinity, found = None, False\n",
    "    try:\n",
    "        with open(log_file, 'r') as f:\n",
    "            for line in f:\n",
    "                if found and re.match(r'^\\\\s*1\\\\s+-?\\\\d+\\\\.\\\\d+', line):\n",
    "                    affinity = float(line.split()[1])\n",
    "                    break\n",
    "                if line.strip().startswith(\"mode |\"):\n",
    "                    found = True\n",
    "    except Exception:\n",
    "        pass\n",
    "    return affinity\n",
    "\n",
    "def run_docking_fallback(ligand_pdbqt, receptor_pdbqt, receptor_pdb, output_dir, try_tools=[\"smina\", \"vina\"]):\n",
    "    os.makedirs(output_dir, exist_ok=True)\n",
    "    base = os.path.basename(ligand_pdbqt).replace('.pdbqt', '')\n",
    "    output_file = os.path.join(output_dir, base + '_out.pdbqt')\n",
    "    log_file = os.path.join(output_dir, base + '.log')\n",
    "    \n",
    "    center, size = compute_box_from_pdb(receptor_pdb)\n",
    "    cx, cy, cz = center\n",
    "    sx, sy, sz = size\n",
    "\n",
    "    for tool in try_tools:\n",
    "        cmd = f\"{tool} --receptor {receptor_pdbqt} --ligand {ligand_pdbqt} \" \\\\\n",
    "              f\"--center_x {cx:.2f} --center_y {cy:.2f} --center_z {cz:.2f} \" \\\\\n",
    "              f\"--size_x {sx:.1f} --size_y {sy:.1f} --size_z {sz:.1f} \" \\\\\n",
    "              f\"--out {output_file} --log {log_file} --exhaustiveness 8\"\n",
    "        t0 = time.time()\n",
    "        os.system(cmd)\n",
    "        duration = time.time() - t0\n",
    "\n",
    "        affinity = extract_affinity_from_log(log_file)\n",
    "        if affinity is not None:\n",
    "            print(f\"✅ {tool.upper()} réussi pour {base} ({affinity:.2f} kcal/mol, {duration:.1f}s)\")\n",
    "            return affinity, tool\n",
    "        else:\n",
    "            print(f\"⚠️ {tool} a échoué pour {base}\")\n",
    "    return None, \"Failed\"\n",
    "\"\"\"))\n",
    "\n",
    "# Boucle de docking avec toutes les cibles\n",
    "cells.append(v4.new_code_cell(\"\"\"\\\n",
    "ALL_LIGANDS_DIR = \"ligands_pdbqt\"\n",
    "RECEPTORS = {\n",
    "    \"HIV1protease\": (\"receptors/1DMP.pdbqt\", \"receptors/1DMP.pdb\"),\n",
    "    \"Hsp90\":        (\"receptors/2XJX.pdbqt\", \"receptors/2XJX.pdb\"),\n",
    "    \"Proteasome\":   (\"receptors/7PG9.pdbqt\", \"receptors/7PG9.pdb\"),\n",
    "    \"Neurodegenerative (1SYH)\": (\"receptors/1SYH.pdbqt\", \"receptors/1SYH.pdb\"),\n",
    "    \"Malaria COPD (4LDE)\": (\"receptors/4LDE.pdbqt\", \"receptors/4LDE.pdb\"),\n",
    "    \"COVID-19 (6Y2F)\": (\"receptors/6Y2F.pdbqt\", \"receptors/6Y2F.pdb\")\n",
    "}\n",
    "\n",
    "ligands = [f for f in os.listdir(ALL_LIGANDS_DIR) if f.endswith(\".pdbqt\")]\n",
    "results = []\n",
    "\n",
    "for lig in tqdm(ligands, desc=\"Docking total\"):\n",
    "    lig_path = os.path.join(ALL_LIGANDS_DIR, lig)\n",
    "    result_row = {\"Molecule\": lig}\n",
    "    for target, (rec_pdbqt, rec_pdb) in RECEPTORS.items():\n",
    "        out_dir = os.path.join(\"results\", target)\n",
    "        affinity, method = run_docking_fallback(lig_path, rec_pdbqt, rec_pdb, out_dir)\n",
    "        result_row[target] = affinity\n",
    "        result_row[target + \"_method\"] = method\n",
    "    results.append(result_row)\n",
    "\n",
    "df = pd.DataFrame(results)\n",
    "df.to_csv(\"docking_matrix.csv\", index=False)\n",
    "df.head()\"\"\"))\n",
    "\n",
    "# Visualisation\n",
    "cells.append(v4.new_code_cell(\"\"\"\\\n",
    "df = pd.read_csv(\"docking_matrix.csv\")\n",
    "aff_cols = [col for col in df.columns if col not in [\"Molecule\"] and not col.endswith(\"_method\")]\n",
    "df_long = df[[\"Molecule\"] + aff_cols].melt(id_vars=\"Molecule\", var_name=\"Target\", value_name=\"Affinity\")\n",
    "\n",
    "plt.figure(figsize=(12, 6))\n",
    "heatmap_data = df_long.pivot(index=\"Molecule\", columns=\"Target\", values=\"Affinity\")\n",
    "sns.heatmap(heatmap_data, cmap=\"vlag\", center=0, annot=True, fmt=\".1f\")\n",
    "plt.title(\"Carte de chaleur des affinités (kcal/mol)\")\n",
    "plt.xticks(rotation=45)\n",
    "plt.tight_layout()\n",
    "plt.show()\"\"\"))\n",
    "\n",
    "# Enregistrement du notebook\n",
    "notebook = v4.new_notebook(cells=cells, metadata={\"kernelspec\": {\"name\": \"python3\", \"display_name\": \"Python 3\"}})\n",
    "nb_path = Path(\"docking_all_targets_with_download.ipynb\")\n",
    "with open(nb_path, \"w\", encoding=\"utf-8\") as f:\n",
    "    write(notebook, f)\n",
    "\n",
    "nb_path.as_posix()\n"
   ]
  },
  {
   "cell_type": "code",
   "execution_count": null,
   "id": "de8c92b5-c176-4088-b773-2e608a8d2609",
   "metadata": {},
   "outputs": [],
   "source": []
  }
 ],
 "metadata": {
  "kernelspec": {
   "display_name": "Python 3 (ipykernel)",
   "language": "python",
   "name": "python3"
  },
  "language_info": {
   "codemirror_mode": {
    "name": "ipython",
    "version": 3
   },
   "file_extension": ".py",
   "mimetype": "text/x-python",
   "name": "python",
   "nbconvert_exporter": "python",
   "pygments_lexer": "ipython3",
   "version": "3.10.8"
  }
 },
 "nbformat": 4,
 "nbformat_minor": 5
}
