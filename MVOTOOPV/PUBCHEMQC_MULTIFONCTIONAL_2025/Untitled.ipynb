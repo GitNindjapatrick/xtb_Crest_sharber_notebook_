{
 "cells": [
  {
   "cell_type": "markdown",
   "id": "55f8a032-4065-41e3-aad4-39b2b7eda690",
   "metadata": {},
   "source": [
    "✅ Étape 1 : Import des bibliothèques"
   ]
  },
  {
   "cell_type": "code",
   "execution_count": 1,
   "id": "ac7d2bcd-d91a-4282-a81e-0aa38be6b1d1",
   "metadata": {},
   "outputs": [],
   "source": [
    "import os\n",
    "import pandas as pd\n",
    "from rdkit import Chem\n",
    "from rdkit.Chem import AllChem\n",
    "from rdkit.Chem import Descriptors\n",
    "from rdkit.Chem import Draw\n",
    "from openbabel import pybel\n",
    "from tqdm.notebook import tqdm\n"
   ]
  },
  {
   "cell_type": "markdown",
   "id": "d503d995-cbc7-474f-828d-7c4c834fd927",
   "metadata": {},
   "source": [
    "✅ Étape 2 : Chargement de la base de données\n",
    "\n"
   ]
  },
  {
   "cell_type": "code",
   "execution_count": 3,
   "id": "9d1e1c42-4dc1-4c4d-bac4-9ffa977600d7",
   "metadata": {},
   "outputs": [],
   "source": [
    "df = pd.read_csv(\"smiles_select_GDB9.csv\")  # Le fichier doit contenir une colonne \"SMILES\"\n",
    "df[\"Molecule\"] = [Chem.MolFromSmiles(sm) for sm in df[\"SMILES\"]]\n",
    "df = df.dropna(subset=[\"Molecule\"]).reset_index(drop=True)\n"
   ]
  },
  {
   "cell_type": "code",
   "execution_count": 4,
   "id": "2e40b507-ffde-4b77-8add-38349d0ba8d4",
   "metadata": {},
   "outputs": [
    {
     "data": {
      "text/html": [
       "<div>\n",
       "<style scoped>\n",
       "    .dataframe tbody tr th:only-of-type {\n",
       "        vertical-align: middle;\n",
       "    }\n",
       "\n",
       "    .dataframe tbody tr th {\n",
       "        vertical-align: top;\n",
       "    }\n",
       "\n",
       "    .dataframe thead th {\n",
       "        text-align: right;\n",
       "    }\n",
       "</style>\n",
       "<table border=\"1\" class=\"dataframe\">\n",
       "  <thead>\n",
       "    <tr style=\"text-align: right;\">\n",
       "      <th></th>\n",
       "      <th>mol_id</th>\n",
       "      <th>SMILES</th>\n",
       "      <th>formula</th>\n",
       "      <th>pce_pcbm(%)</th>\n",
       "      <th>pce_pcdtbt(%)</th>\n",
       "      <th>sas1(%)</th>\n",
       "      <th>pce_pcbm_sas(%)</th>\n",
       "      <th>pce_pcdtbt_sas(%)</th>\n",
       "      <th>type</th>\n",
       "      <th>Molecule</th>\n",
       "    </tr>\n",
       "  </thead>\n",
       "  <tbody>\n",
       "    <tr>\n",
       "      <th>0</th>\n",
       "      <td>977</td>\n",
       "      <td>O=O</td>\n",
       "      <td>O2</td>\n",
       "      <td>8.661863</td>\n",
       "      <td>0.000000</td>\n",
       "      <td>3.373829</td>\n",
       "      <td>5.288034</td>\n",
       "      <td>-3.373829</td>\n",
       "      <td>accepteur</td>\n",
       "      <td>&lt;rdkit.Chem.rdchem.Mol object at 0x7f6d4670e5e0&gt;</td>\n",
       "    </tr>\n",
       "    <tr>\n",
       "      <th>1</th>\n",
       "      <td>1712</td>\n",
       "      <td>O=C1N=c2c(=C1CNc1ccc(cc1)S(=O)(=O)Nc1ccccn1)c1...</td>\n",
       "      <td>C21H15N5O3S2</td>\n",
       "      <td>8.503739</td>\n",
       "      <td>0.000000</td>\n",
       "      <td>7.227077</td>\n",
       "      <td>1.276662</td>\n",
       "      <td>-7.227077</td>\n",
       "      <td>accepteur</td>\n",
       "      <td>&lt;rdkit.Chem.rdchem.Mol object at 0x7f6d4670e650&gt;</td>\n",
       "    </tr>\n",
       "    <tr>\n",
       "      <th>2</th>\n",
       "      <td>4550</td>\n",
       "      <td>O=NC1=c2cc(N(O)O)c3c(c2=NC1=O)CCCC3</td>\n",
       "      <td>C12H11N3O4</td>\n",
       "      <td>0.000000</td>\n",
       "      <td>16.886417</td>\n",
       "      <td>6.955664</td>\n",
       "      <td>-6.955664</td>\n",
       "      <td>9.930753</td>\n",
       "      <td>donneur</td>\n",
       "      <td>&lt;rdkit.Chem.rdchem.Mol object at 0x7f6d4670e6c0&gt;</td>\n",
       "    </tr>\n",
       "    <tr>\n",
       "      <th>3</th>\n",
       "      <td>7801</td>\n",
       "      <td>Oc1ccc(cc1)O.O=C1C=CC(=O)C=C1</td>\n",
       "      <td>C12H10O4</td>\n",
       "      <td>7.447933</td>\n",
       "      <td>0.000000</td>\n",
       "      <td>6.864235</td>\n",
       "      <td>0.583698</td>\n",
       "      <td>-6.864235</td>\n",
       "      <td>accepteur</td>\n",
       "      <td>&lt;rdkit.Chem.rdchem.Mol object at 0x7f6d4670e730&gt;</td>\n",
       "    </tr>\n",
       "    <tr>\n",
       "      <th>4</th>\n",
       "      <td>11029</td>\n",
       "      <td>[O-]C(=O)[O-].[Mg+2]</td>\n",
       "      <td>CMgO3</td>\n",
       "      <td>0.000000</td>\n",
       "      <td>8.546781</td>\n",
       "      <td>4.861290</td>\n",
       "      <td>-4.861290</td>\n",
       "      <td>3.685491</td>\n",
       "      <td>donneur</td>\n",
       "      <td>&lt;rdkit.Chem.rdchem.Mol object at 0x7f6d4670e7a0&gt;</td>\n",
       "    </tr>\n",
       "    <tr>\n",
       "      <th>5</th>\n",
       "      <td>17851</td>\n",
       "      <td>CC[N-]c1nc(N[N+]#N)nc(n1)NC(C)C</td>\n",
       "      <td>C8H14N8</td>\n",
       "      <td>3.984198</td>\n",
       "      <td>36.108642</td>\n",
       "      <td>7.622432</td>\n",
       "      <td>-3.638234</td>\n",
       "      <td>28.486210</td>\n",
       "      <td>donneur</td>\n",
       "      <td>&lt;rdkit.Chem.rdchem.Mol object at 0x7f6d4670e810&gt;</td>\n",
       "    </tr>\n",
       "    <tr>\n",
       "      <th>6</th>\n",
       "      <td>20778</td>\n",
       "      <td>N#[N+]Nc1nc([N-]C(C)C)nc(n1)SC</td>\n",
       "      <td>C7H11N7S</td>\n",
       "      <td>0.000000</td>\n",
       "      <td>25.412759</td>\n",
       "      <td>7.206303</td>\n",
       "      <td>-7.206303</td>\n",
       "      <td>18.206457</td>\n",
       "      <td>donneur</td>\n",
       "      <td>&lt;rdkit.Chem.rdchem.Mol object at 0x7f6d4670e880&gt;</td>\n",
       "    </tr>\n",
       "  </tbody>\n",
       "</table>\n",
       "</div>"
      ],
      "text/plain": [
       "   mol_id                                             SMILES       formula  \\\n",
       "0     977                                                O=O            O2   \n",
       "1    1712  O=C1N=c2c(=C1CNc1ccc(cc1)S(=O)(=O)Nc1ccccn1)c1...  C21H15N5O3S2   \n",
       "2    4550                O=NC1=c2cc(N(O)O)c3c(c2=NC1=O)CCCC3    C12H11N3O4   \n",
       "3    7801                      Oc1ccc(cc1)O.O=C1C=CC(=O)C=C1      C12H10O4   \n",
       "4   11029                               [O-]C(=O)[O-].[Mg+2]         CMgO3   \n",
       "5   17851                    CC[N-]c1nc(N[N+]#N)nc(n1)NC(C)C       C8H14N8   \n",
       "6   20778                     N#[N+]Nc1nc([N-]C(C)C)nc(n1)SC      C7H11N7S   \n",
       "\n",
       "   pce_pcbm(%)  pce_pcdtbt(%)   sas1(%)  pce_pcbm_sas(%)  pce_pcdtbt_sas(%)  \\\n",
       "0     8.661863       0.000000  3.373829         5.288034          -3.373829   \n",
       "1     8.503739       0.000000  7.227077         1.276662          -7.227077   \n",
       "2     0.000000      16.886417  6.955664        -6.955664           9.930753   \n",
       "3     7.447933       0.000000  6.864235         0.583698          -6.864235   \n",
       "4     0.000000       8.546781  4.861290        -4.861290           3.685491   \n",
       "5     3.984198      36.108642  7.622432        -3.638234          28.486210   \n",
       "6     0.000000      25.412759  7.206303        -7.206303          18.206457   \n",
       "\n",
       "        type                                          Molecule  \n",
       "0  accepteur  <rdkit.Chem.rdchem.Mol object at 0x7f6d4670e5e0>  \n",
       "1  accepteur  <rdkit.Chem.rdchem.Mol object at 0x7f6d4670e650>  \n",
       "2    donneur  <rdkit.Chem.rdchem.Mol object at 0x7f6d4670e6c0>  \n",
       "3  accepteur  <rdkit.Chem.rdchem.Mol object at 0x7f6d4670e730>  \n",
       "4    donneur  <rdkit.Chem.rdchem.Mol object at 0x7f6d4670e7a0>  \n",
       "5    donneur  <rdkit.Chem.rdchem.Mol object at 0x7f6d4670e810>  \n",
       "6    donneur  <rdkit.Chem.rdchem.Mol object at 0x7f6d4670e880>  "
      ]
     },
     "execution_count": 4,
     "metadata": {},
     "output_type": "execute_result"
    }
   ],
   "source": [
    "df"
   ]
  },
  {
   "cell_type": "markdown",
   "id": "d66428b8-ff0c-440a-9e21-ca18305bfee1",
   "metadata": {},
   "source": [
    "✅ Étape 3 : Génération des structures 3D (.pdbqt) pour le docking"
   ]
  },
  {
   "cell_type": "code",
   "execution_count": 5,
   "id": "4fc81f19-9f67-4ec6-bac6-683203db338a",
   "metadata": {},
   "outputs": [],
   "source": [
    "def generate_3d_structure(smiles, mol_id, out_dir=\"ligands_pdbqt\"):\n",
    "    os.makedirs(out_dir, exist_ok=True)\n",
    "    mol = Chem.MolFromSmiles(smiles)\n",
    "    mol = Chem.AddHs(mol)\n",
    "    AllChem.EmbedMolecule(mol)\n",
    "    AllChem.UFFOptimizeMolecule(mol)\n",
    "    tmp_sdf = os.path.join(out_dir, f\"{mol_id}.sdf\")\n",
    "    tmp_pdbqt = os.path.join(out_dir, f\"{mol_id}.pdbqt\")\n",
    "\n",
    "    writer = Chem.SDWriter(tmp_sdf)\n",
    "    writer.write(mol)\n",
    "    writer.close()\n",
    "\n",
    "    # Convert SDF to PDBQT using Open Babel\n",
    "    mol_ob = next(pybel.readfile(\"sdf\", tmp_sdf))\n",
    "    mol_ob.addh()\n",
    "    mol_ob.make3D()\n",
    "    mol_ob.write(\"pdbqt\", tmp_pdbqt, overwrite=True)\n",
    "\n",
    "    return tmp_pdbqt\n"
   ]
  },
  {
   "cell_type": "markdown",
   "id": "32c5213f-2241-4f12-84b0-43d73855ae7c",
   "metadata": {},
   "source": [
    "✅ Étape 5 : Lancement du docking avec Smina (ou vina)"
   ]
  },
  {
   "cell_type": "code",
   "execution_count": 6,
   "id": "31b25003-70a7-4f27-af18-6343f0cc1d52",
   "metadata": {},
   "outputs": [],
   "source": [
    "def run_smina_docking(ligand_pdbqt, output_dir=\"docking_results\", receptor=\"receptor.pdbqt\"):\n",
    "    os.makedirs(output_dir, exist_ok=True)\n",
    "    output_file = os.path.join(output_dir, os.path.basename(ligand_pdbqt).replace(\".pdbqt\", \"_out.pdbqt\"))\n",
    "    log_file = os.path.join(output_dir, os.path.basename(ligand_pdbqt).replace(\".pdbqt\", \".log\"))\n",
    "\n",
    "    command = f\"\"\"\n",
    "    smina --receptor {receptor} --ligand {ligand_pdbqt} \\\n",
    "    --center_x 0 --center_y 0 --center_z 0 --size_x 20 --size_y 20 --size_z 20 \\\n",
    "    --out {output_file} --log {log_file} --exhaustiveness 8\n",
    "    \"\"\"\n",
    "    os.system(command)\n",
    "    \n",
    "    with open(log_file, 'r') as f:\n",
    "        for line in f:\n",
    "            if \"Affinity:\" in line:\n",
    "                score = float(line.split()[1])\n",
    "                return score\n",
    "    return None\n"
   ]
  },
  {
   "cell_type": "markdown",
   "id": "2d5221e9-3263-49cc-be95-3fee2a51d2e5",
   "metadata": {},
   "source": [
    "\n",
    "✅ Étape 6 : Boucle sur les molécules"
   ]
  },
  {
   "cell_type": "code",
   "execution_count": 10,
   "id": "278897f8-5a07-43c3-a3c4-2243a0fcf99f",
   "metadata": {},
   "outputs": [
    {
     "data": {
      "application/vnd.jupyter.widget-view+json": {
       "model_id": "195ca4a9ec544d138c9015f8e9f96c58",
       "version_major": 2,
       "version_minor": 0
      },
      "text/plain": [
       "  0%|          | 0/7 [00:00<?, ?it/s]"
      ]
     },
     "metadata": {},
     "output_type": "display_data"
    },
    {
     "name": "stdout",
     "output_type": "stream",
     "text": [
      "   _______  _______ _________ _        _______ \n",
      "  (  ____ \\(       )\\__   __/( (    /|(  ___  )\n",
      "  | (    \\/| () () |   ) (   |  \\  ( || (   ) |\n",
      "  | (_____ | || || |   | |   |   \\ | || (___) |\n",
      "  (_____  )| |(_)| |   | |   | (\\ \\) ||  ___  |\n",
      "        ) || |   | |   | |   | | \\   || (   ) |\n",
      "  /\\____) || )   ( |___) (___| )  \\  || )   ( |\n",
      "  \\_______)|/     \\|\\_______/|/    )_)|/     \\|\n",
      "\n",
      "\n",
      "smina is based off AutoDock Vina. Please cite appropriately.\n",
      "\n",
      "Weights      Terms\n",
      "-0.035579    gauss(o=0,_w=0.5,_c=8)\n",
      "-0.005156    gauss(o=3,_w=2,_c=8)\n",
      "0.840245     repulsion(o=0,_c=8)\n",
      "-0.035069    hydrophobic(g=0.5,_b=1.5,_c=8)\n",
      "-0.587439    non_dir_h_bond(g=-0.7,_b=0,_c=8)\n",
      "1.923        num_tors_div\n",
      "\n"
     ]
    },
    {
     "name": "stderr",
     "output_type": "stream",
     "text": [
      "\n",
      "\n",
      "Error: could not open \"receptor.pdbqt\" for reading.\n"
     ]
    },
    {
     "name": "stdout",
     "output_type": "stream",
     "text": [
      "   _______  _______ _________ _        _______ \n",
      "  (  ____ \\(       )\\__   __/( (    /|(  ___  )\n",
      "  | (    \\/| () () |   ) (   |  \\  ( || (   ) |\n",
      "  | (_____ | || || |   | |   |   \\ | || (___) |\n",
      "  (_____  )| |(_)| |   | |   | (\\ \\) ||  ___  |\n",
      "        ) || |   | |   | |   | | \\   || (   ) |\n",
      "  /\\____) || )   ( |___) (___| )  \\  || )   ( |\n",
      "  \\_______)|/     \\|\\_______/|/    )_)|/     \\|\n",
      "\n",
      "\n",
      "smina is based off AutoDock Vina. Please cite appropriately.\n",
      "\n",
      "Weights      Terms\n",
      "-0.035579    gauss(o=0,_w=0.5,_c=8)\n",
      "-0.005156    gauss(o=3,_w=2,_c=8)\n",
      "0.840245     repulsion(o=0,_c=8)\n",
      "-0.035069    hydrophobic(g=0.5,_b=1.5,_c=8)\n",
      "-0.587439    non_dir_h_bond(g=-0.7,_b=0,_c=8)\n",
      "1.923        num_tors_div\n",
      "\n",
      "   _______  _______ _________ _        _______ \n",
      "  (  ____ \\(       )\\__   __/( (    /|(  ___  )\n",
      "  | (    \\/| () () |   ) (   |  \\  ( || (   ) |\n",
      "  | (_____ | || || |   | |   |   \\ | || (___) |\n",
      "  (_____  )| |(_)| |   | |   | (\\ \\) ||  ___  |\n",
      "        ) || |   | |   | |   | | \\   || (   ) |\n",
      "  /\\____) || )   ( |___) (___| )  \\  || )   ( |\n",
      "  \\_______)|/     \\|\\_______/|/    )_)|/     \\|\n",
      "\n",
      "\n",
      "smina is based off AutoDock Vina. Please cite appropriately.\n",
      "\n",
      "Weights      Terms\n",
      "-0.035579    gauss(o=0,_w=0.5,_c=8)\n",
      "-0.005156    gauss(o=3,_w=2,_c=8)\n",
      "0.840245     repulsion(o=0,_c=8)\n",
      "-0.035069    hydrophobic(g=0.5,_b=1.5,_c=8)\n",
      "-0.587439    non_dir_h_bond(g=-0.7,_b=0,_c=8)\n",
      "1.923        num_tors_div\n",
      "\n"
     ]
    },
    {
     "name": "stderr",
     "output_type": "stream",
     "text": [
      "\n",
      "\n",
      "Error: could not open \"receptor.pdbqt\" for reading.\n",
      "\n",
      "\n",
      "Error: could not open \"receptor.pdbqt\" for reading.\n"
     ]
    },
    {
     "name": "stdout",
     "output_type": "stream",
     "text": [
      "   _______  _______ _________ _        _______ \n",
      "  (  ____ \\(       )\\__   __/( (    /|(  ___  )\n",
      "  | (    \\/| () () |   ) (   |  \\  ( || (   ) |\n",
      "  | (_____ | || || |   | |   |   \\ | || (___) |\n",
      "  (_____  )| |(_)| |   | |   | (\\ \\) ||  ___  |\n",
      "        ) || |   | |   | |   | | \\   || (   ) |\n",
      "  /\\____) || )   ( |___) (___| )  \\  || )   ( |\n",
      "  \\_______)|/     \\|\\_______/|/    )_)|/     \\|\n",
      "\n",
      "\n",
      "smina is based off AutoDock Vina. Please cite appropriately.\n",
      "\n",
      "Weights      Terms\n",
      "-0.035579    gauss(o=0,_w=0.5,_c=8)\n",
      "-0.005156    gauss(o=3,_w=2,_c=8)\n",
      "0.840245     repulsion(o=0,_c=8)\n",
      "-0.035069    hydrophobic(g=0.5,_b=1.5,_c=8)\n",
      "-0.587439    non_dir_h_bond(g=-0.7,_b=0,_c=8)\n",
      "1.923        num_tors_div\n",
      "\n",
      "   _______  _______ _________ _        _______ \n",
      "  (  ____ \\(       )\\__   __/( (    /|(  ___  )\n",
      "  | (    \\/| () () |   ) (   |  \\  ( || (   ) |\n",
      "  | (_____ | || || |   | |   |   \\ | || (___) |\n",
      "  (_____  )| |(_)| |   | |   | (\\ \\) ||  ___  |\n",
      "        ) || |   | |   | |   | | \\   || (   ) |\n",
      "  /\\____) || )   ( |___) (___| )  \\  || )   ( |\n",
      "  \\_______)|/     \\|\\_______/|/    )_)|/     \\|\n",
      "\n",
      "\n",
      "smina is based off AutoDock Vina. Please cite appropriately.\n",
      "\n",
      "Weights      Terms\n",
      "-0.035579    gauss(o=0,_w=0.5,_c=8)\n",
      "-0.005156    gauss(o=3,_w=2,_c=8)\n",
      "0.840245     repulsion(o=0,_c=8)\n",
      "-0.035069    hydrophobic(g=0.5,_b=1.5,_c=8)\n",
      "-0.587439    non_dir_h_bond(g=-0.7,_b=0,_c=8)\n",
      "1.923        num_tors_div\n",
      "\n",
      "   _______  _______ _________ _        _______ \n",
      "  (  ____ \\(       )\\__   __/( (    /|(  ___  )\n",
      "  | (    \\/| () () |   ) (   |  \\  ( || (   ) |\n",
      "  | (_____ | || || |   | |   |   \\ | || (___) |\n",
      "  (_____  )| |(_)| |   | |   | (\\ \\) ||  ___  |\n",
      "        ) || |   | |   | |   | | \\   || (   ) |\n",
      "  /\\____) || )   ( |___) (___| )  \\  || )   ( |\n",
      "  \\_______)|/     \\|\\_______/|/    )_)|/     \\|\n",
      "\n",
      "\n",
      "smina is based off AutoDock Vina. Please cite appropriately.\n",
      "\n",
      "Weights      Terms\n",
      "-0.035579    gauss(o=0,_w=0.5,_c=8)\n",
      "-0.005156    gauss(o=3,_w=2,_c=8)\n",
      "0.840245     repulsion(o=0,_c=8)\n",
      "-0.035069    hydrophobic(g=0.5,_b=1.5,_c=8)\n",
      "-0.587439    non_dir_h_bond(g=-0.7,_b=0,_c=8)\n",
      "1.923        num_tors_div\n",
      "\n"
     ]
    },
    {
     "name": "stderr",
     "output_type": "stream",
     "text": [
      "\n",
      "\n",
      "Error: could not open \"receptor.pdbqt\" for reading.\n",
      "[17:55:29] UFFTYPER: Warning: hybridization set to SP3 for atom 0\n",
      "[17:55:29] UFFTYPER: Unrecognized charge state for atom: 0\n",
      "[17:55:29] UFFTYPER: Warning: hybridization set to SP3 for atom 4\n",
      "[17:55:29] UFFTYPER: Unrecognized charge state for atom: 4\n",
      "\n",
      "\n",
      "Error: could not open \"receptor.pdbqt\" for reading.\n",
      "\n",
      "\n",
      "Error: could not open \"receptor.pdbqt\" for reading.\n"
     ]
    },
    {
     "name": "stdout",
     "output_type": "stream",
     "text": [
      "   _______  _______ _________ _        _______ \n",
      "  (  ____ \\(       )\\__   __/( (    /|(  ___  )\n",
      "  | (    \\/| () () |   ) (   |  \\  ( || (   ) |\n",
      "  | (_____ | || || |   | |   |   \\ | || (___) |\n",
      "  (_____  )| |(_)| |   | |   | (\\ \\) ||  ___  |\n",
      "        ) || |   | |   | |   | | \\   || (   ) |\n",
      "  /\\____) || )   ( |___) (___| )  \\  || )   ( |\n",
      "  \\_______)|/     \\|\\_______/|/    )_)|/     \\|\n",
      "\n",
      "\n",
      "smina is based off AutoDock Vina. Please cite appropriately.\n",
      "\n",
      "Weights      Terms\n",
      "-0.035579    gauss(o=0,_w=0.5,_c=8)\n",
      "-0.005156    gauss(o=3,_w=2,_c=8)\n",
      "0.840245     repulsion(o=0,_c=8)\n",
      "-0.035069    hydrophobic(g=0.5,_b=1.5,_c=8)\n",
      "-0.587439    non_dir_h_bond(g=-0.7,_b=0,_c=8)\n",
      "1.923        num_tors_div\n",
      "\n"
     ]
    },
    {
     "name": "stderr",
     "output_type": "stream",
     "text": [
      "\n",
      "\n",
      "Error: could not open \"receptor.pdbqt\" for reading.\n"
     ]
    }
   ],
   "source": [
    "results = []\n",
    "\n",
    "for idx, row in tqdm(df.iterrows(), total=len(df)):\n",
    "    ligand_file = generate_3d_structure(row[\"SMILES\"], mol_id=row[\"mol_id\"])\n",
    "    score = run_smina_docking(ligand_file, receptor=\"receptor.pdbqt\")  # Receptor fictif !\n",
    "    results.append({\n",
    "        \"ID\": row[\"mol_id\"],\n",
    "        \"SMILES\": row[\"SMILES\"],\n",
    "        \"Affinity_kcal_mol\": score\n",
    "    })\n",
    "\n",
    "docking_df = pd.DataFrame(results)\n",
    "docking_df.to_csv(\"results_smina_docking.csv\", index=False)\n"
   ]
  },
  {
   "cell_type": "markdown",
   "id": "f147a575-d18d-4b1a-b5e6-975a2dfbd421",
   "metadata": {},
   "source": [
    "✅ Étape 7 : Filtrage des bons candidats"
   ]
  },
  {
   "cell_type": "code",
   "execution_count": 11,
   "id": "974ace63-f8c9-430a-8465-3536a5c73a74",
   "metadata": {},
   "outputs": [
    {
     "name": "stdout",
     "output_type": "stream",
     "text": [
      "Top candidate molecules with medicinal potential:\n",
      " Empty DataFrame\n",
      "Columns: [ID, SMILES, Affinity_kcal_mol]\n",
      "Index: []\n"
     ]
    }
   ],
   "source": [
    "candidates = docking_df[docking_df[\"Affinity_kcal_mol\"] < -6.0]\n",
    "print(\"Top candidate molecules with medicinal potential:\\n\", candidates.head())\n"
   ]
  },
  {
   "cell_type": "code",
   "execution_count": null,
   "id": "35a6c7f7-0c44-438b-add5-0ea4b9c25d9f",
   "metadata": {},
   "outputs": [],
   "source": []
  }
 ],
 "metadata": {
  "kernelspec": {
   "display_name": "Python 3 (ipykernel)",
   "language": "python",
   "name": "python3"
  },
  "language_info": {
   "codemirror_mode": {
    "name": "ipython",
    "version": 3
   },
   "file_extension": ".py",
   "mimetype": "text/x-python",
   "name": "python",
   "nbconvert_exporter": "python",
   "pygments_lexer": "ipython3",
   "version": "3.10.8"
  }
 },
 "nbformat": 4,
 "nbformat_minor": 5
}
