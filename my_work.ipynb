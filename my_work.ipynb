{
 "cells": [
  {
   "cell_type": "code",
   "execution_count": 47,
   "metadata": {},
   "outputs": [],
   "source": [
    "import pandas as pd"
   ]
  },
  {
   "cell_type": "code",
   "execution_count": 50,
   "metadata": {},
   "outputs": [
    {
     "name": "stdout",
     "output_type": "stream",
     "text": [
      "  smiles_key                                             smiles      pce_1  \\\n",
      "0    smiles0  c1ncc(s1)-c1sc(-c2cnc(s2)-c2scc3cc[se]c23)c2nc...  10.802524   \n",
      "1    smiles1  c1ncc(s1)-c1ccc([se]1)-c1cnc(-c2cccc3cocc23)c2...  10.799833   \n",
      "2    smiles2  c1ncc(s1)-c1ncc(-c2sc(-c3ccccc3)c3[se]ccc23)c2...  10.796661   \n",
      "3    smiles3                 c1c-c2cc3cnc4ccc5ccccc5c4c3cc2-nc1        NaN   \n",
      "4    smiles4  c1sc(-c2cc3c(o2)c2c4c[nH]cc4c4ccccc4c2c2=CCC=c...        NaN   \n",
      "5    smiles5  c1sc(-c2cc3cc4sc5ccc6c[nH]cc6c5c4cc3c3ccccc23)...        NaN   \n",
      "\n",
      "       pce_2  \n",
      "0        NaN  \n",
      "1        NaN  \n",
      "2        NaN  \n",
      "3  33.912133  \n",
      "4  33.889634  \n",
      "5  33.961095  \n"
     ]
    }
   ],
   "source": [
    "import pandas.util  # Assuming 'util' is an alias for pandas.util\n",
    "\n",
    "# Read the CSV file\n",
    "df = pd.read_csv(\"hce.csv\")\n",
    "\n",
    "# Filter rows with pce_1 > 10.79\n",
    "df_acc = df[df[\"pce_1\"] > 10.79][[\"smiles\", \"pce_1\"]]\n",
    "\n",
    "# Filter rows with pce_2 > 33.8\n",
    "df_don = df[df[\"pce_2\"] > 33.8][[\"smiles\", \"pce_2\"]]\n",
    "\n",
    "# Concatenate DataFrames and reset index\n",
    "my1_df = pd.concat([df_acc, df_don], ignore_index=True)\n",
    "smiles1=['smiles0','smiles1','smiles2','smiles3','smiles4','smiles5']\n",
    "# Create a new column with 'smiles n' format (assuming 'n' starts from 1)\n",
    "my1_df['smiles_key'] = smiles1 # Ensure smiles are strings\n",
    "\n",
    "# Reorder columns\n",
    "my1_df = my1_df[['smiles_key', 'smiles', 'pce_1', 'pce_2']]\n",
    "\n",
    "# Print the resulting DataFrame\n",
    "print(my1_df)\n"
   ]
  },
  {
   "cell_type": "code",
   "execution_count": 51,
   "metadata": {},
   "outputs": [
    {
     "data": {
      "text/html": [
       "<div>\n",
       "<style scoped>\n",
       "    .dataframe tbody tr th:only-of-type {\n",
       "        vertical-align: middle;\n",
       "    }\n",
       "\n",
       "    .dataframe tbody tr th {\n",
       "        vertical-align: top;\n",
       "    }\n",
       "\n",
       "    .dataframe thead th {\n",
       "        text-align: right;\n",
       "    }\n",
       "</style>\n",
       "<table border=\"1\" class=\"dataframe\">\n",
       "  <thead>\n",
       "    <tr style=\"text-align: right;\">\n",
       "      <th></th>\n",
       "      <th>smiles_key</th>\n",
       "      <th>smiles</th>\n",
       "      <th>pce_1</th>\n",
       "      <th>pce_2</th>\n",
       "    </tr>\n",
       "  </thead>\n",
       "  <tbody>\n",
       "    <tr>\n",
       "      <th>0</th>\n",
       "      <td>smiles0</td>\n",
       "      <td>c1ncc(s1)-c1sc(-c2cnc(s2)-c2scc3cc[se]c23)c2nc...</td>\n",
       "      <td>10.802524</td>\n",
       "      <td>NaN</td>\n",
       "    </tr>\n",
       "    <tr>\n",
       "      <th>1</th>\n",
       "      <td>smiles1</td>\n",
       "      <td>c1ncc(s1)-c1ccc([se]1)-c1cnc(-c2cccc3cocc23)c2...</td>\n",
       "      <td>10.799833</td>\n",
       "      <td>NaN</td>\n",
       "    </tr>\n",
       "    <tr>\n",
       "      <th>2</th>\n",
       "      <td>smiles2</td>\n",
       "      <td>c1ncc(s1)-c1ncc(-c2sc(-c3ccccc3)c3[se]ccc23)c2...</td>\n",
       "      <td>10.796661</td>\n",
       "      <td>NaN</td>\n",
       "    </tr>\n",
       "    <tr>\n",
       "      <th>3</th>\n",
       "      <td>smiles3</td>\n",
       "      <td>c1c-c2cc3cnc4ccc5ccccc5c4c3cc2-nc1</td>\n",
       "      <td>NaN</td>\n",
       "      <td>33.912133</td>\n",
       "    </tr>\n",
       "    <tr>\n",
       "      <th>4</th>\n",
       "      <td>smiles4</td>\n",
       "      <td>c1sc(-c2cc3c(o2)c2c4c[nH]cc4c4ccccc4c2c2=CCC=c...</td>\n",
       "      <td>NaN</td>\n",
       "      <td>33.889634</td>\n",
       "    </tr>\n",
       "    <tr>\n",
       "      <th>5</th>\n",
       "      <td>smiles5</td>\n",
       "      <td>c1sc(-c2cc3cc4sc5ccc6c[nH]cc6c5c4cc3c3ccccc23)...</td>\n",
       "      <td>NaN</td>\n",
       "      <td>33.961095</td>\n",
       "    </tr>\n",
       "  </tbody>\n",
       "</table>\n",
       "</div>"
      ],
      "text/plain": [
       "  smiles_key                                             smiles      pce_1  \\\n",
       "0    smiles0  c1ncc(s1)-c1sc(-c2cnc(s2)-c2scc3cc[se]c23)c2nc...  10.802524   \n",
       "1    smiles1  c1ncc(s1)-c1ccc([se]1)-c1cnc(-c2cccc3cocc23)c2...  10.799833   \n",
       "2    smiles2  c1ncc(s1)-c1ncc(-c2sc(-c3ccccc3)c3[se]ccc23)c2...  10.796661   \n",
       "3    smiles3                 c1c-c2cc3cnc4ccc5ccccc5c4c3cc2-nc1        NaN   \n",
       "4    smiles4  c1sc(-c2cc3c(o2)c2c4c[nH]cc4c4ccccc4c2c2=CCC=c...        NaN   \n",
       "5    smiles5  c1sc(-c2cc3cc4sc5ccc6c[nH]cc6c5c4cc3c3ccccc23)...        NaN   \n",
       "\n",
       "       pce_2  \n",
       "0        NaN  \n",
       "1        NaN  \n",
       "2        NaN  \n",
       "3  33.912133  \n",
       "4  33.889634  \n",
       "5  33.961095  "
      ]
     },
     "execution_count": 51,
     "metadata": {},
     "output_type": "execute_result"
    }
   ],
   "source": [
    "my1_df"
   ]
  },
  {
   "cell_type": "code",
   "execution_count": null,
   "metadata": {},
   "outputs": [],
   "source": []
  }
 ],
 "metadata": {
  "kernelspec": {
   "display_name": "Python 3 (ipykernel)",
   "language": "python",
   "name": "python3"
  },
  "language_info": {
   "codemirror_mode": {
    "name": "ipython",
    "version": 3
   },
   "file_extension": ".py",
   "mimetype": "text/x-python",
   "name": "python",
   "nbconvert_exporter": "python",
   "pygments_lexer": "ipython3",
<<<<<<< Updated upstream
   "version": "3.12.3"
=======
   "version": "3.8.19"
>>>>>>> Stashed changes
  }
 },
 "nbformat": 4,
 "nbformat_minor": 4
}
